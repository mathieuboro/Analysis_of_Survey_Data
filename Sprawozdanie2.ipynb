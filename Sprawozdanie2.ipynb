{
 "cells": [
  {
   "cell_type": "markdown",
   "metadata": {},
   "source": [
    "# Sprawozdanie 2\n",
    "## Jakub Ciągło (275986), Mateusz Ćwiek (276011)"
   ]
  },
  {
   "cell_type": "markdown",
   "metadata": {},
   "source": [
    "___\n",
    "# Importy"
   ]
  },
  {
   "cell_type": "code",
   "execution_count": 1,
   "metadata": {},
   "outputs": [],
   "source": [
    "from scipy import stats \n",
    "import numpy as np\n",
    "import pandas as pd\n",
    "from statsmodels.stats.proportion import proportion_confint\n",
    "import math\n",
    "import matplotlib.pyplot as plt"
   ]
  },
  {
   "cell_type": "markdown",
   "metadata": {},
   "source": [
    "___\n",
    "# Część 1\n",
    "## Zadanie 1\n",
    "**Oszacowanie rozkładu opinii o szkoleniu – przedziały ufności dla wektora prawdopodobieństw** \n",
    "\n",
    "W zadaniu analizujemy odpowiedzi 200 pracowników, którzy oceniali szkolenie „Efektywna komunikacja w zespole”. Opinie zostały pogrupowane w pięć kategorii:  \n",
    "\n",
    "Na podstawie uzyskanych liczebności wyznaczamy przedziały ufności dla częstości odpowiedzi w każdej kategorii, traktując te częstości jako estymacje elementów wektora prawdopodobieństw dyskretnego rozkładu opinii.  \n",
    "\n",
    "Uwzględniamy dwa podejścia:  \n",
    "- Dokładne przedziały Cloppera-Pearsona oparte na rozkładzie beta,  \n",
    "- Przybliżone przedziały Wilsona (asymptotyczne).  \n",
    "\n",
    "Ze względu na pięć kategorii, poziom ufności dla każdej z nich został skorygowany metodą Bonferroniego (czyli poziom istotności $ \\alpha = 0.05 $ podzielono przez $5$).  \n",
    "\n",
    "Przedziały zostały wyznaczone niezależnie dla każdej kategorii, zakładając próbę o stałej liczebności $ n = 200 $."
   ]
  },
  {
   "cell_type": "code",
   "execution_count": 2,
   "metadata": {},
   "outputs": [
    {
     "name": "stdout",
     "output_type": "stream",
     "text": [
      "Kategoria 1\n",
      "  Metoda Clopper-Pearson: (0.032, 0.130)\n",
      "  Metoda Wilson:          (0.036, 0.132)\n",
      "\n",
      "Kategoria 2\n",
      "  Metoda Clopper-Pearson: (0.042, 0.149)\n",
      "  Metoda Wilson:          (0.047, 0.150)\n",
      "\n",
      "Kategoria 3\n",
      "  Metoda Clopper-Pearson: (0.133, 0.282)\n",
      "  Metoda Wilson:          (0.137, 0.282)\n",
      "\n",
      "Kategoria 4\n",
      "  Metoda Clopper-Pearson: (0.407, 0.593)\n",
      "  Metoda Wilson:          (0.410, 0.590)\n",
      "\n",
      "Kategoria 5\n",
      "  Metoda Clopper-Pearson: (0.087, 0.220)\n",
      "  Metoda Wilson:          (0.092, 0.221)\n",
      "\n"
     ]
    }
   ],
   "source": [
    "def clopper_pearson_ci(successes, trials, alpha):\n",
    "    lower = stats.beta.ppf(alpha / 2, successes, trials - successes + 1)\n",
    "    upper = stats.beta.ppf(1 - alpha / 2, successes + 1, trials - successes)\n",
    "    return lower, upper\n",
    "\n",
    "def wyznacz_przedzialy_ufnosci(liczebnosci, alpha=0.05):\n",
    "    n = np.sum(liczebnosci)\n",
    "    kategorie = len(liczebnosci)\n",
    "    \n",
    "    adjusted_alpha = alpha / kategorie\n",
    "\n",
    "    przedzialy = []\n",
    "\n",
    "    for i, sukcesy in enumerate(liczebnosci):\n",
    "        cp_lower, cp_upper = clopper_pearson_ci(sukcesy, n, adjusted_alpha)\n",
    "\n",
    "        wilson_lower, wilson_upper = proportion_confint(sukcesy, n, alpha=adjusted_alpha, method='wilson')\n",
    "\n",
    "        przedzialy.append({\n",
    "            'kategoria': i + 1,\n",
    "            'dokladny': (cp_lower, cp_upper),\n",
    "            'asymptotyczny': (wilson_lower, wilson_upper)\n",
    "        })\n",
    "\n",
    "    return przedzialy\n",
    "\n",
    "liczebnosci = np.array([14, 17, 40, 100, 29])\n",
    "przedzialy = wyznacz_przedzialy_ufnosci(liczebnosci, alpha=0.05)\n",
    "\n",
    "for przedzial in przedzialy:\n",
    "    print(f\"Kategoria {przedzial['kategoria']}\")\n",
    "    print(f\"  Metoda Clopper-Pearson: ({przedzial['dokladny'][0]:.3f}, {przedzial['dokladny'][1]:.3f})\")\n",
    "    print(f\"  Metoda Wilson:          ({przedzial['asymptotyczny'][0]:.3f}, {przedzial['asymptotyczny'][1]:.3f})\\n\")\n"
   ]
  },
  {
   "cell_type": "markdown",
   "metadata": {},
   "source": [
    "___\n",
    "## Zadanie 2\n",
    "**Poziomy krytyczne w testach dopasowania rozkładu – testy chi-kwadrat**\n",
    "\n",
    "Celem zadania było stworzenie funkcji obliczającej poziomy krytyczne (p-value) w dwóch klasycznych testach dopasowania rozkładu wielomianowego:\n",
    "\n",
    "- Test chi-kwadrat Pearsona,  \n",
    "- Test chi-kwadrat największej wiarygodności.\n",
    "\n",
    "Weryfikujemy hipotezę:\n",
    "$$\n",
    "H_0: \\mathbf{p} = \\mathbf{p}_0 \\quad \\text{przeciwko} \\quad H_1: \\mathbf{p} \\ne \\mathbf{p}_0\n",
    "$$\n",
    "na podstawie obserwacji $\\mathbf{x} = (x_1, \\dots, x_k)$ będącej realizacją zmiennej losowej z rozkładu wielomianowego o parametrach $n$ (łączna liczba prób) i $\\mathbf{p}$.\n",
    "\n",
    "W funkcji:\n",
    "\n",
    "- Obliczono wartość statystyki testowej Pearsona:  \n",
    "  $$\n",
    "  \\chi^2 = \\sum_{i=1}^k \\frac{(x_i - np_{0i})^2}{np_{0i}}\n",
    "  $$\n",
    "- Obliczono statystykę testu największej wiarygodności:  \n",
    "  $$\n",
    "  G^2 = 2 \\sum_{i=1}^k x_i \\log \\left( \\frac{x_i}{np_{0i}} \\right)\n",
    "  $$\n",
    "- Dla obu statystyk zwrócono wartość p-value obliczoną na podstawie rozkładu $\\chi^2$ z $k - 1$ stopniami swobody.  \n",
    "\n",
    "Funkcja przyjmuje dowolny rozkład teoretyczny $\\mathbf{p}_0$ i zestaw danych $\\mathbf{x}$, co pozwala łatwo porównywać dane empiryczne z dowolną hipotezą dotyczącą struktury rozkładu."
   ]
  },
  {
   "cell_type": "code",
   "execution_count": 3,
   "metadata": {},
   "outputs": [],
   "source": [
    "def poziomy_krytyczne(x, p_0):\n",
    "    k = len(p_0)\n",
    "    n = sum(x)\n",
    "    \n",
    "    pearson_stat = sum(((x[i] - n * p_0[i]) ** 2) / (n * p_0[i]) for i in range(k))\n",
    "\n",
    "    nw_stat = 2 * sum(x[i] * np.log(x[i] / (n * p_0[i])) for i in range(k) if x[i] > 0)\n",
    "    \n",
    "    p_value_pearson = 1 - stats.chi2.cdf(pearson_stat, k - 1)\n",
    "    p_value_nw = 1 - stats.chi2.cdf(nw_stat, k - 1)\n",
    "    \n",
    "    return float(p_value_pearson), float(p_value_nw)"
   ]
  },
  {
   "cell_type": "markdown",
   "metadata": {},
   "source": [
    "___\n",
    "## Zadanie 3\n",
    "\n",
    "**Test zgodności rozkładu odpowiedzi z rozkładem jednostajnym — Dział Produktowy**\n",
    "\n",
    "W tym zadaniu sprawdzono, czy rozkład odpowiedzi pracowników z Działu Produktowego na pytanie dotyczące wsparcia i materiałów szkoleniowych (PYT_1) można uznać za jednostajny, czyli czy każde z pięciu możliwych stanowisk (-2, -1, 0, 1, 2) było wybierane z jednakowym prawdopodobieństwem.\n",
    "\n",
    "Do weryfikacji hipotezy:\n",
    "$$\n",
    "H_0: \\text{rozkład odpowiedzi jest jednostajny (równe prawdopodobieństwa)} \\\\\n",
    "H_1: \\text{rozkład odpowiedzi nie jest jednostajny}\n",
    "$$\n",
    "wykorzystano dwie statystyki chi-kwadrat:\n",
    "\n",
    "- **Test Pearsona**,  \n",
    "- **Test największej wiarygodności**.\n",
    "\n",
    "Na podstawie otrzymanych wartości p (p-value) z obu testów oceniono, czy istnieją podstawy do odrzucenia hipotezy zerowej na poziomie istotności $\\alpha = 0.05$.  "
   ]
  },
  {
   "cell_type": "code",
   "execution_count": 4,
   "metadata": {},
   "outputs": [
    {
     "name": "stdout",
     "output_type": "stream",
     "text": [
      "Liczności odpowiedzi: [9, 10, 17, 51, 11]\n",
      "Statystyka chi² Pearsona (dla poziomu istotności α = 0.05):\n",
      "  p-wartość = 2.757793993168889e-13\n",
      "  → Odrzucamy hipotezę zerową (rozkład nie jest równomierny)\n",
      "\n",
      "Statystyka chi² największej wiarygodności (dla poziomu istotności α = 0.05):\n",
      "  p-wartość = 1.0701994845874196e-10\n",
      "  → Odrzucamy hipotezę zerową (rozkład nie jest równomierny)\n"
     ]
    }
   ],
   "source": [
    "alfa = 0.05\n",
    "df = pd.read_csv('ankieta.csv', encoding='Latin2', sep=';')\n",
    "\n",
    "df_produktowy = df[df['DZIAŁ'] == 'PD']\n",
    "\n",
    "odpowiedzi = [-2, -1, 0, 1, 2]\n",
    "n = df_produktowy['PYT_1'].value_counts().reindex(odpowiedzi, fill_value=0).tolist()\n",
    "print('Liczności odpowiedzi:', n)\n",
    "\n",
    "p_0 = [1/len(n) for _ in range(len(n))] # w hipotezie zakładamy, że prawdopodobieństwa są równe\n",
    "p_value_pearson, p_value_nw = poziomy_krytyczne(n,p_0)\n",
    "\n",
    "p_value_pearson, p_value_nw = poziomy_krytyczne(n, p_0)\n",
    "\n",
    "print(f'Statystyka chi² Pearsona (dla poziomu istotności α = {alfa}):')\n",
    "print(f'  p-wartość = {p_value_pearson}')\n",
    "if p_value_pearson > alfa:\n",
    "    print('  → Brak podstaw do odrzucenia hipotezy zerowej (rozkład może być równomierny)')\n",
    "else:\n",
    "    print('  → Odrzucamy hipotezę zerową (rozkład nie jest równomierny)')\n",
    "\n",
    "print(f'\\nStatystyka chi² największej wiarygodności (dla poziomu istotności α = {alfa}):')\n",
    "print(f'  p-wartość = {p_value_nw}')\n",
    "if p_value_nw > alfa:\n",
    "    print('  → Brak podstaw do odrzucenia hipotezy zerowej (rozkład może być równomierny)')\n",
    "else:\n",
    "    print('  → Odrzucamy hipotezę zerową (rozkład nie jest równomierny)')"
   ]
  },
  {
   "cell_type": "markdown",
   "metadata": {},
   "source": [
    "___\n",
    "# Część II \n",
    "___\n",
    "## Zadanie 4\n",
    "**Zapoznanie się z funkcjami służącymi do wykonania testu Fishera oraz testu Freemana-Haltona.**\n"
   ]
  },
  {
   "cell_type": "code",
   "execution_count": 12,
   "metadata": {},
   "outputs": [
    {
     "name": "stdout",
     "output_type": "stream",
     "text": [
      "Wynik testu Fishera: p-value = 0.5937\n",
      "→ Brak podstaw do odrzucenia H₀: zmienne są niezależne\n",
      "Wynik testu Freemana-Haltona: p-value = 0.0498\n",
      "→ ODRZUCAMY H₀: zmienne są zależne\n"
     ]
    }
   ],
   "source": [
    "table_fisher = np.array([[10, 20], [10, 30]])\n",
    "\n",
    "oddsratio, p_value_fisher = stats.fisher_exact(table_fisher)\n",
    "\n",
    "print(f\"Wynik testu Fishera: p-value = {p_value_fisher:.4f}\")\n",
    "if p_value_fisher < 0.05:\n",
    "    print(\"→ ODRZUCAMY H₀: zmienne są zależne\")\n",
    "else:\n",
    "    print(\"→ Brak podstaw do odrzucenia H₀: zmienne są niezależne\")\n",
    "\n",
    "table_freeman = np.array([[10, 20, 30], [5, 15, 25], [20, 30, 40]])\n",
    "\n",
    "table_freeman_transposed = table_freeman.T\n",
    "\n",
    "statistic, p_value_freeman = stats.friedmanchisquare(*table_freeman_transposed)\n",
    "\n",
    "\n",
    "print(f\"Wynik testu Freemana-Haltona: p-value = {p_value_freeman:.4f}\")\n",
    "if p_value_freeman < 0.05:\n",
    "    print(\"→ ODRZUCAMY H₀: zmienne są zależne\")\n",
    "else:\n",
    "    print(\"→ Brak podstaw do odrzucenia H₀: zmienne są niezależne\")"
   ]
  },
  {
   "cell_type": "markdown",
   "metadata": {},
   "source": [
    "___\n",
    "## Zadanie 5\n",
    "**Test niezależności zmiennych \"PŁEĆ\" i \"CZY_KIER\" za pomocą testu Fishera**\n",
    "\n",
    "W zadaniu przeprowadzono test niezależności dwóch zmiennych: **PŁEĆ** (kobieta/mężczyzna) i **CZY_KIER** (czy na stanowisku kierowniczym), aby sprawdzić, czy zmienne te są niezależne na poziomie istotności 0.05.\n",
    "\n",
    "**Hipoteza zerowa (H0):** Zmienne \"PŁEĆ\" i \"CZY_KIER\" są niezależne.  \n",
    "**Hipoteza alternatywna (H1):** Zmienne \"PŁEĆ\" i \"CZY_KIER\" są zależne.\n",
    "\n",
    "Aby przeprowadzić test Fishera, stworzono tabelę kontyngencji 2x2, która pokazuje liczbę kobiet i mężczyzn na stanowiskach kierowniczych i niekierowniczych."
   ]
  },
  {
   "cell_type": "code",
   "execution_count": null,
   "metadata": {},
   "outputs": [
    {
     "name": "stdout",
     "output_type": "stream",
     "text": [
      "CZY_KIER  Nie  Tak\n",
      "PŁEĆ              \n",
      "K          63    8\n",
      "M         110   19\n",
      "Wynik testu Fishera:\n",
      "  odds ratio: 1.3602272727272726\n",
      "  p-value: 0.6659028889666552\n",
      "Brak podstaw do odrzucenia H0 -> nie ma dowodów na zależność.\n"
     ]
    }
   ],
   "source": [
    "contingency_table = pd.crosstab(df['PŁEĆ'], df['CZY_KIER'])\n",
    "print(contingency_table)\n",
    "\n",
    "oddsratio, p_value = stats.fisher_exact(contingency_table)\n",
    "\n",
    "print(\"Wynik testu Fishera:\")\n",
    "print(f\"  odds ratio: {oddsratio}\")\n",
    "print(f\"  p-value: {p_value}\")\n",
    "\n",
    "alpha = 0.05\n",
    "if p_value < alpha:\n",
    "    print(\"Odrzucamy hipotezę zerową -> zmienne 'PŁEĆ' i 'CZY_KIER' są zależne.\")\n",
    "else:\n",
    "    print(\"Brak podstaw do odrzucenia H0 -> nie ma dowodów na zależność.\")\n"
   ]
  },
  {
   "cell_type": "markdown",
   "metadata": {},
   "source": [
    "Jeśli p‑value < 0.05, odrzucamy hipotezę o niezależności, co oznacza, że istnieje istotna statystycznie różnica w prawdopodobieństwie bycia na stanowisku kierowniczym między kobietami a mężczyznami.\n",
    "\n",
    "Jeśli p‑value ≥ 0.05 - tak jak w wyniku zadania, mamy brak podstaw do odrzucenia hipotezy zerowej, czyli test Fishera ($p = 0.6659$) nie wykazał istotnej różnicy między kobietami i mężczyznami w udziale stanowisk kierowniczych, co oznacza, że prawdopodobieństwo pełnienia funkcji kierowniczej jest w obu grupach statystycznie zbliżone."
   ]
  },
  {
   "cell_type": "markdown",
   "metadata": {},
   "source": [
    "___\n",
    "## Zadanie 6\n",
    "**Test Freemana-Haltona dla zależności między zmiennymi**\n",
    "\n",
    "W zadaniu przeprowadzono testy zależności między różnymi zmiennymi w zestawie danych, wykorzystując test Freemana-Haltona. \n",
    "\n",
    "Dla każdej pary zmiennych wyliczono wartość p-testu Freemana-Haltona. Na poziomie istotności 0.05, jeśli p-wartość była mniejsza od 0.05, hipotezę zerową odrzucano, co wskazuje na zależność między badanymi zmiennymi. Jeśli p-wartość była większa lub równa 0.05, hipotezę zerową utrzymano, co oznacza brak dowodów na zależność.\n",
    "\n",
    "Na końcu dla każdej zmiennej uzyskano decyzje dotyczące hipotez zerowych, przedstawiając wyniki testu Fishera dla odpowiednich par zmiennych."
   ]
  },
  {
   "cell_type": "code",
   "execution_count": 130,
   "metadata": {},
   "outputs": [],
   "source": [
    "import os\n",
    "os.environ[\"R_HOME\"] = r\"C:\\Program Files\\R\\R-4.5.0\"\n",
    "os.environ[\"PATH\"] += r\";C:\\Program Files\\R\\R-4.5.0\\bin\\x64\"\n",
    "import rpy2.robjects as ro\n",
    "from rpy2.robjects.packages import importr\n",
    "stats = importr(\"stats\") "
   ]
  },
  {
   "cell_type": "code",
   "execution_count": 131,
   "metadata": {},
   "outputs": [
    {
     "name": "stdout",
     "output_type": "stream",
     "text": [
      "a) CZY_KIER × WIEK_KAT   p = 0.7823  → brak podstaw\n",
      "b) CZY_KIER × STAŻ       p = 0.0001  → ODRZUCAMY H₀\n",
      "c) PYT_2 × CZY_KIER   p = 0.0443  → ODRZUCAMY H₀\n",
      "d) PYT_2 × STAŻ       p = 0.0107  → ODRZUCAMY H₀\n",
      "e) PYT_2 × PŁEĆ       p = 0.4758  → brak podstaw\n",
      "f) PYT_2 × WIEK_KAT   p = 0.3194  → brak podstaw\n",
      "\n",
      "--- PYT_2 zastąpione przez CZY_ZADOW ---\n",
      "c′) CZY_ZADOW × CZY_KIER   p = 0.8377  → brak podstaw\n",
      "d′) CZY_ZADOW × STAŻ       p = 0.4097  → brak podstaw\n",
      "e′) CZY_ZADOW × PŁEĆ       p = 0.6589  → brak podstaw\n",
      "f′) CZY_ZADOW × WIEK_KAT   p = 0.3275  → brak podstaw\n"
     ]
    }
   ],
   "source": [
    "from rpy2.robjects import pandas2ri; pandas2ri.activate()\n",
    "\n",
    "df[\"CZY_ZADOW\"] = df[\"PYT_2\"].replace({\n",
    "    -2: \"niezadowolony\",\n",
    "    -1: \"niezadowolony\",\n",
    "     1: \"zadowolony\",\n",
    "     2: \"zadowolony\"\n",
    "})\n",
    "\n",
    "df[\"WIEK_KAT\"] = pd.cut(\n",
    "        df[\"WIEK\"],\n",
    "        bins=[0, 35, 45, 55, float(\"inf\")],\n",
    "        labels=[\"do 35 lat\", \"36‑45 lat\", \"46‑55 lat\", \"powyżej 55 lat\"])\n",
    "\n",
    "\n",
    "def fisher_fh(tab, simulate=False, B=50000, workspace=300000):\n",
    "    r_tab = pandas2ri.py2rpy(tab)\n",
    "    res   = stats.fisher_test(\n",
    "               r_tab,\n",
    "               simulate_p_value = simulate,\n",
    "               B        = B if simulate else 0,\n",
    "               workspace = workspace if not simulate else None\n",
    "           )\n",
    "    return dict(res.items())[\"p.value\"][0]\n",
    "\n",
    "\n",
    "hipotezy = [\n",
    "    (\"CZY_KIER\", \"WIEK_KAT\",  \"a\"),\n",
    "    (\"CZY_KIER\", \"STAŻ\",    \"b\"),\n",
    "    (\"PYT_2\",    \"CZY_KIER\",  \"c\"),\n",
    "    (\"PYT_2\",    \"STAŻ\",    \"d\"),\n",
    "    (\"PYT_2\",    \"PŁEĆ\",      \"e\"),\n",
    "    (\"PYT_2\",    \"WIEK_KAT\",  \"f\"),\n",
    "]\n",
    "\n",
    "for x, y, et in hipotezy:\n",
    "    tab = pd.crosstab(df[x], df[y])\n",
    "    p   = fisher_fh(tab, simulate = tab.size > 25)\n",
    "    decyzja = \"ODRZUCAMY H₀\" if p < 0.05 else \"brak podstaw\"\n",
    "    print(f\"{et}) {x} × {y:<9}  p = {p:6.4f}  → {decyzja}\")\n",
    "\n",
    "print(\"\\n--- PYT_2 zastąpione przez CZY_ZADOW ---\")\n",
    "for x, y, et in [\n",
    "        (\"CZY_ZADOW\", \"CZY_KIER\", \"c′\"),\n",
    "        (\"CZY_ZADOW\", \"STAŻ\",   \"d′\"),\n",
    "        (\"CZY_ZADOW\", \"PŁEĆ\",     \"e′\"),\n",
    "        (\"CZY_ZADOW\", \"WIEK_KAT\", \"f′\")]:\n",
    "    tab = pd.crosstab(df[x], df[y])\n",
    "    p   = fisher_fh(tab, simulate = tab.size > 25)\n",
    "    decyzja = \"ODRZUCAMY H₀\" if p < 0.05 else \"brak podstaw\"\n",
    "    print(f\"{et}) {x} × {y:<9}  p = {p:6.4f}  → {decyzja}\")\n"
   ]
  },
  {
   "cell_type": "markdown",
   "metadata": {},
   "source": [
    "W świetle przeprowadzonych testów okazuje się, że zajmowanie stanowiska kierowniczego nie ma związku z wiekiem ($p = 0.7823$), natomiast jest silnie związane ze stażem pracy ($p = 0,0001$). Gdy używamy oryginalnej, wielostopniowej skali satysfakcji (PYT_2), to poziom zadowolenia okazuje się zależeć zarówno od pełnienia funkcji kierowniczej ($p = 0.0443$), jak i od stażu pracy ($p = 0.0107$), podczas gdy płeć i wiek nie wykazują wpływu. Jednak po zredukowaniu skali do dwuwartościowej zmiennej CZY_ZADOW wszystkie testy c′–f′ tracą istotność (najniższe $p = 0.3275$), co sugeruje, że agregacja odpowiedzi z tytułu uproszczenia skali wygładza różnice i „maskuje” wcześniej obserwowane zależności."
   ]
  },
  {
   "cell_type": "markdown",
   "metadata": {},
   "source": [
    "___\n",
    "# Część III\n",
    "___\n",
    "## Zadanie 7 i 8\n",
    "**Zapoznanie się z funkcją służącą do wykonania testu niezależności $\\chi^2$. Weryfikacja hipotezy dotyczącej zależności między stopniem zadowolenia ze szkoleń a zajmowanym stanowiskiem**\n",
    "\n",
    "W zadaniu wykorzystano test chi-kwadrat do analizy, czy stopień zadowolenia ze szkoleń (PYT_2) jest zależny od zajmowanego stanowiska (CZY_KIER). Poziom istotności został ustalony na 0.01. \n",
    "\n",
    "Na podstawie p-wartości sprawdzono hipotezę:\n",
    "- Jeśli p < 0.01, odrzucono hipotezę zerową, co oznacza, że zadowolenie zależy od stanowiska.\n",
    "- Jeśli p ≥ 0.01, brak podstaw do odrzucenia hipotezy zerowej, więc zadowolenie nie jest zależne od stanowiska.\n",
    "\n",
    "Standaryzowane reszty przedstawiają, jak bardzo obserwowane wartości odbiegają od wartości oczekiwanych w jednostkach odchylenia standardowego. Dzięki temu możemy zauważyć, które komórki tabeli mają największy wpływ na wyniki testu chi-kwadrat."
   ]
  },
  {
   "cell_type": "code",
   "execution_count": null,
   "metadata": {},
   "outputs": [
    {
     "name": "stdout",
     "output_type": "stream",
     "text": [
      "Chi2 = 13.1137, p-value = 0.0044, df = 3\n",
      "→ ODRZUCAMY H₀: zadowolenie zależy od stanowiska\n"
     ]
    },
    {
     "data": {
      "image/png": "[encoded data removed]",
      "text/plain": [
       "<Figure size 640x480 with 2 Axes>"
      ]
     },
     "metadata": {},
     "output_type": "display_data"
    }
   ],
   "source": [
    "table = pd.crosstab(df[\"PYT_2\"], df[\"CZY_KIER\"])\n",
    "\n",
    "chi2, p, dof, expected = stats.chi2_contingency(table, correction=False)\n",
    "\n",
    "print(f\"Chi2 = {chi2:.4f}, p-value = {p:.4f}, df = {dof}\")\n",
    "if p < 0.01:\n",
    "    print(\"→ ODRZUCAMY H₀: zadowolenie zależy od stanowiska\")\n",
    "else:\n",
    "    print(\"→ Brak podstaw do odrzucenia H₀: zadowolenie niezależne od stanowiska\")\n",
    "\n",
    "residuals = (table - expected) / np.sqrt(expected)\n",
    "\n",
    "plt.imshow(residuals.values, aspect='auto')\n",
    "\n",
    "plt.xticks(np.arange(len(table.columns)), table.columns)\n",
    "plt.yticks(np.arange(len(table.index)), table.index)\n",
    "plt.xlabel(\"CZY_KIER\")\n",
    "plt.ylabel(\"PYT_2\")\n",
    "plt.title(\"Standaryzowane reszty (PYT_2 × CZY_KIER)\")\n",
    "\n",
    "for i in range(residuals.shape[0]):\n",
    "    for j in range(residuals.shape[1]):\n",
    "        plt.text(j, i, f\"{residuals.values[i,j]:.2f}\", ha=\"center\", va=\"center\")\n",
    "\n",
    "plt.colorbar(label=\"odchylenie standardowe reszt\")\n",
    "plt.tight_layout()\n",
    "plt.show()"
   ]
  },
  {
   "cell_type": "markdown",
   "metadata": {},
   "source": [
    "Test chi-kwadrat daje $\\chi^2(3) = 13,11$ z $p = 0,0044$, co przy $\\alpha = 0,01$ pozwala odrzucić $H_0$ o niezależności – poziom zadowolenia (PYT\\_2) istotnie różni się między kierownikami a pozostałymi pracownikami. Wynik ten jest zgodny z zadaniem 6.\n",
    "\n",
    "Patrząc na standaryzowane reszty, największy wkład w tę zależność wnosi komórka „PYT\\_2 = 1 (zgadzam się)” w kolumnie „Tak” (reszta $\\approx +3,33$), co oznacza, że kierownicy znacząco częściej niż oczekiwano deklarują umiarkowaną zgodę na tezę o dopasowaniu szkoleń. Odwrotnie jest wśród nie-kierowników, którzy w tej samej kategorii wypadają poniżej oczekiwań (reszta $\\approx -1,32$). Pozostałe komórki mają niewielkie reszty, więc główny efekt to przewaga kierowników deklarujących zgodę.\n"
   ]
  },
  {
   "cell_type": "markdown",
   "metadata": {},
   "source": [
    "___\n",
    "## Zadanie 9\n",
    "**Oszacowanie mocy testu Fishera oraz testu chi-kwadrat Pearsona poprzez symulację**\n",
    "\n",
    "W zadaniu przeprowadzono symulację w celu oszacowania mocy testu Fishera oraz testu chi-kwadrat Pearsona. \n",
    "\n",
    "W procesie symulacji:\n",
    "- Wygenerowano próbki z rozkładu wielomianowego przy zadanych prawdopodobieństwach, dbając o to, aby marginesy wierszy i kolumn w tabeli były większe od zera, co gwarantuje poprawność wyników.\n",
    "- Dla każdej próby przeprowadzono test Fishera oraz test chi-kwadrat, a wyniki porównano z ustalonym poziomem istotności.\n",
    "- Obliczono moc testów (procent przypadków, w których test odrzucił hipotezę zerową).\n",
    "\n",
    "Wyniki zostały przedstawione w tabeli, która pokazuje, jak moc obu testów zmienia się w zależności od rozmiaru próby. "
   ]
  },
  {
   "cell_type": "code",
   "execution_count": null,
   "metadata": {},
   "outputs": [],
   "source": [
    "def moc_testu(n, p, N=500, alpha=0.05):\n",
    "    np.random.seed(0)\n",
    "    count_fisher = 0\n",
    "    count_chi2 = 0\n",
    "    \n",
    "    for _ in range(N):\n",
    "        while True:\n",
    "            x = np.random.multinomial(n, p)\n",
    "            row_sums = [x[0]+x[1], x[2]+x[3]]\n",
    "            col_sums = [x[0]+x[2], x[1]+x[3]]\n",
    "            if all(s > 0 for s in row_sums + col_sums):\n",
    "                break\n",
    "        \n",
    "        table = np.array([[x[0], x[1]], [x[2], x[3]]])\n",
    "        \n",
    "        _, p_fisher = stats.fisher_exact(table, alternative='two-sided')\n",
    "        if p_fisher < alpha:\n",
    "            count_fisher += 1\n",
    "        \n",
    "        _, p_chi2, _, _ = stats.chi2_contingency(table, correction=False)\n",
    "        if p_chi2 < alpha:\n",
    "            count_chi2 += 1\n",
    "    \n",
    "    return count_fisher / N, count_chi2 / N"
   ]
  },
  {
   "cell_type": "code",
   "execution_count": 134,
   "metadata": {},
   "outputs": [
    {
     "data": {
      "text/html": [
       "<div>\n",
       "<style scoped>\n",
       "    .dataframe tbody tr th:only-of-type {\n",
       "        vertical-align: middle;\n",
       "    }\n",
       "\n",
       "    .dataframe tbody tr th {\n",
       "        vertical-align: top;\n",
       "    }\n",
       "\n",
       "    .dataframe thead th {\n",
       "        text-align: right;\n",
       "    }\n",
       "</style>\n",
       "<table border=\"1\" class=\"dataframe\">\n",
       "  <thead>\n",
       "    <tr style=\"text-align: right;\">\n",
       "      <th></th>\n",
       "      <th>n</th>\n",
       "      <th>Power Fisher</th>\n",
       "      <th>Power Chi2</th>\n",
       "    </tr>\n",
       "  </thead>\n",
       "  <tbody>\n",
       "    <tr>\n",
       "      <th>0</th>\n",
       "      <td>50</td>\n",
       "      <td>0.124</td>\n",
       "      <td>0.198</td>\n",
       "    </tr>\n",
       "    <tr>\n",
       "      <th>1</th>\n",
       "      <td>100</td>\n",
       "      <td>0.306</td>\n",
       "      <td>0.384</td>\n",
       "    </tr>\n",
       "    <tr>\n",
       "      <th>2</th>\n",
       "      <td>1000</td>\n",
       "      <td>1.000</td>\n",
       "      <td>1.000</td>\n",
       "    </tr>\n",
       "  </tbody>\n",
       "</table>\n",
       "</div>"
      ],
      "text/plain": [
       "      n  Power Fisher  Power Chi2\n",
       "0    50         0.124       0.198\n",
       "1   100         0.306       0.384\n",
       "2  1000         1.000       1.000"
      ]
     },
     "execution_count": 134,
     "metadata": {},
     "output_type": "execute_result"
    }
   ],
   "source": [
    "p = [1/40, 3/40, 19/40, 17/40]\n",
    "ns = [50, 100, 1000]\n",
    "results = []\n",
    "\n",
    "for n in ns:\n",
    "    pow_f, pow_c = moc_testu(n, p, N=500, alpha=0.05)\n",
    "    results.append((n, pow_f, pow_c))\n",
    "\n",
    "df_results = pd.DataFrame(results, columns=['n', 'Power Fisher', 'Power Chi2'])\n",
    "df_results"
   ]
  },
  {
   "cell_type": "markdown",
   "metadata": {},
   "source": [
    "Przy bardzo małej próbie ($n = 50$) oba testy mają niską moc, ale test chi-kwadrat ($\\approx 0{,}20$) jest nieco bardziej czuły niż dokładny test Fishera ($\\approx 0{,}12$). Dla $n = 100$ różnice utrzymują się ($\\approx 0{,}38$ vs. $\\approx 0{,}31$), choć moc obu rośnie. Natomiast przy $n = 1000$ oba testy osiągają moc praktycznie równą $1$, co oznacza niemal pewność wykrycia tej wielkości efektu.\n",
    "\n",
    "Generalnie więc: im większa próba, tym większa moc; test chi-kwadrat ma nieco wyższą moc od testu Fishera dla umiarkowanych $n$, ale przy dużych próbkach oba są równie skuteczne.\n"
   ]
  },
  {
   "cell_type": "markdown",
   "metadata": {},
   "source": [
    "___\n",
    "## Zadanie 10\n",
    "**Obliczenie wartości poziomu krytycznego w teście niezależności opartym na ilorazie wiarogodności**\n",
    "\n",
    "W zadaniu stworzono funkcję `poziom_krytyczny_lr`, która oblicza wartość poziomu krytycznego w teście niezależności.\n",
    "\n",
    "Proces obliczeń:\n",
    "1. Funkcja przyjmuje tabelę 2D z nieujemnymi liczbami całkowitymi, reprezentującą kontyngencję.\n",
    "2. Na podstawie tej tabeli obliczane są wartości logarytmu ilorazu $\\lambda$ (log-likelihood ratio), który jest wykorzystywany do wyznaczenia statystyki $G^2$:\n",
    "\n",
    "   $$ \\log(\\lambda) = \\sum_{i,j} n_{ij} \\left[ \\log \\left( \\frac{n_{i+} n_{+j}}{n \\cdot n_{ij}} \\right) \\right] $$\n",
    "\n",
    "   gdzie:\n",
    "   - $n_{ij}$ to liczba obserwacji w komórce tabeli (i, j),\n",
    "   - $n_{i+}$ to suma elementów w wierszu i,\n",
    "   - $n_{+j}$ to suma elementów w kolumnie j,\n",
    "   - $n$ to suma wszystkich obserwacji w tabeli.\n",
    "   \n",
    "3. Statystyka $G^2$ jest porównywana z wartością krytyczną, którą oblicza funkcja `chi2.ppf` na podstawie rozkładu chi-kwadrat i liczby stopni swobody (df).\n",
    "\n",
    "Dla danych z zadania 8 (analiza zależności między stopniem zadowolenia a zajmowanym stanowiskiem) obliczono:\n",
    "- Statystykę $G^2$,\n",
    "- Liczbę stopni swobody,\n",
    "- Wartość krytyczną $G^2$.\n",
    "\n",
    "Na podstawie tej analizy, w zależności od porównania statystyki $G^2$ z wartością krytyczną, zdecydowano, czy należy odrzucić hipotezę zerową:\n",
    "- Jeśli $G^2 >$ wartość krytyczna, to odrzucamy hipotezę zerową (zadowolenie zależy od stanowiska).\n",
    "- Jeśli $G^2 \\leq$ wartość krytyczna, brak podstaw do odrzucenia hipotezy zerowej (zadowolenie niezależne od stanowiska).\n",
    "\n",
    "Wyniki testu pokazują, czy zadowolenie ze szkoleń jest zależne od zajmowanego stanowiska, na poziomie istotności 0.05."
   ]
  },
  {
   "cell_type": "code",
   "execution_count": null,
   "metadata": {},
   "outputs": [],
   "source": [
    "def poziom_krytyczny_lr(table, alpha=0.05):\n",
    "    \"\"\"\n",
    "    table : 2D array–like z nieujemnymi liczbami całkowitymi (kontyngencja R×C)\n",
    "    alpha : poziom istotności (domyślnie 0.05)\n",
    "\n",
    "    Zwraca:\n",
    "      crit     – wartość graniczna G² , tzn. chi2.ppf(1-alpha, df=(R-1)*(C-1))\n",
    "      G2_stat  – obliczoną statystykę G² = -2 log λ\n",
    "      df_       – stopnie swobody = (R-1)*(C-1)\n",
    "    \"\"\"\n",
    "    table = np.asarray(table, dtype=float)\n",
    "    r, c = table.shape\n",
    "    n = table.sum()\n",
    "    row_sums = table.sum(axis=1)\n",
    "    col_sums = table.sum(axis=0)\n",
    "\n",
    "    log_lambda = 0.0\n",
    "    for i in range(r):\n",
    "        for j in range(c):\n",
    "            nij = table[i, j]\n",
    "            if nij > 0:\n",
    "                log_lambda += nij * (\n",
    "                    np.log(row_sums[i] * col_sums[j])\n",
    "                    - np.log(n * nij)\n",
    "                )\n",
    "\n",
    "    G2_stat = -2 * log_lambda\n",
    "    df_ = (r - 1) * (c - 1)\n",
    "    crit = stats.chi2.ppf(1 - alpha, df_)\n",
    "\n",
    "    return crit, G2_stat, df_"
   ]
  },
  {
   "cell_type": "code",
   "execution_count": 136,
   "metadata": {},
   "outputs": [
    {
     "name": "stdout",
     "output_type": "stream",
     "text": [
      "G² = 8.3285, df = 3, krytyczne G²_crit = 7.8147\n",
      "→ ODRZUCAMY H₀: zadowolenie zależy od stanowiska\n"
     ]
    }
   ],
   "source": [
    "tab = pd.crosstab(df[\"PYT_2\"], df[\"CZY_KIER\"])  # 4×2\n",
    "\n",
    "crit, G2, df_ = poziom_krytyczny_lr(tab, alpha=0.05)\n",
    "print(f\"G² = {G2:.4f}, df = {df_}, krytyczne G²_crit = {crit:.4f}\")\n",
    "\n",
    "if G2 > crit:\n",
    "    print(\"→ ODRZUCAMY H₀: zadowolenie zależy od stanowiska\")\n",
    "else:\n",
    "    print(\"→ Brak podstaw do odrzucenia H₀: zadowolenie niezależne\")"
   ]
  },
  {
   "cell_type": "markdown",
   "metadata": {},
   "source": [
    "Statystyka ilorazu wiarygodności wyniosła $G^2 = 8{,}33$ ($df = 3$), a wartość krytyczna przy $\\alpha = 0{,}05$ to $7{,}81$, więc $G^2 > G^2_{\\text{crit}}$ i odrzucamy $H_0$. Oznacza to, że poziom zadowolenia ze szkoleń istotnie różni się między pracownikami na stanowiskach kierowniczych a pozostałymi, co potwierdza wniosek z wcześniejszego testu chi-kwadrat i testu Fishera.\n"
   ]
  },
  {
   "cell_type": "markdown",
   "metadata": {},
   "source": [
    "___\n",
    "# Część IV oraz V\n",
    "___\n",
    "## Zadanie 11\n",
    "**Zadanie 11**\n",
    "**Analiza związku między paleniem papierosów a przyczynami zgonu z wykorzystaniem miar siły zależności**\n",
    "\n",
    "W zadaniu obliczono trzy miary siły związku między paleniem papierosów a zgonami z powodu raka płuc oraz choroby niedokrwiennej serca. Wykorzystano następujące wskaźniki:\n",
    "\n",
    "* **Różnica proporcji (RP)** — wyraża bezwzględną różnicę prawdopodobieństw wystąpienia zdarzenia między grupami (palacze − niepalacze).\n",
    "* **Ryzyko względne (RR)** — stosunek prawdopodobieństwa zgonu w grupie palaczy do prawdopodobieństwa zgonu w grupie niepalaczy.\n",
    "* **Iloraz szans (OR)** — stosunek szans zgonu w grupie palaczy do szans w grupie niepalaczy.\n",
    "\n",
    "Dla każdej przyczyny zgonu (rak płuc, choroba serca) obliczono powyższe miary, korzystając ze znanych wartości odsetków zgonów w grupie palaczy i niepalaczy."
   ]
  },
  {
   "cell_type": "code",
   "execution_count": null,
   "metadata": {},
   "outputs": [
    {
     "data": {
      "text/html": [
       "<div>\n",
       "<style scoped>\n",
       "    .dataframe tbody tr th:only-of-type {\n",
       "        vertical-align: middle;\n",
       "    }\n",
       "\n",
       "    .dataframe tbody tr th {\n",
       "        vertical-align: top;\n",
       "    }\n",
       "\n",
       "    .dataframe thead th {\n",
       "        text-align: right;\n",
       "    }\n",
       "</style>\n",
       "<table border=\"1\" class=\"dataframe\">\n",
       "  <thead>\n",
       "    <tr style=\"text-align: right;\">\n",
       "      <th></th>\n",
       "      <th>Wynik</th>\n",
       "      <th>p (palacze)</th>\n",
       "      <th>p (niepalacze)</th>\n",
       "      <th>RP</th>\n",
       "      <th>RR</th>\n",
       "      <th>OR</th>\n",
       "    </tr>\n",
       "  </thead>\n",
       "  <tbody>\n",
       "    <tr>\n",
       "      <th>0</th>\n",
       "      <td>Rak płuc</td>\n",
       "      <td>0.00140</td>\n",
       "      <td>0.00010</td>\n",
       "      <td>0.00130</td>\n",
       "      <td>14.000000</td>\n",
       "      <td>14.018226</td>\n",
       "    </tr>\n",
       "    <tr>\n",
       "      <th>1</th>\n",
       "      <td>Choroba serca</td>\n",
       "      <td>0.00669</td>\n",
       "      <td>0.00413</td>\n",
       "      <td>0.00256</td>\n",
       "      <td>1.619855</td>\n",
       "      <td>1.624029</td>\n",
       "    </tr>\n",
       "  </tbody>\n",
       "</table>\n",
       "</div>"
      ],
      "text/plain": [
       "           Wynik  p (palacze)  p (niepalacze)       RP         RR         OR\n",
       "0       Rak płuc      0.00140         0.00010  0.00130  14.000000  14.018226\n",
       "1  Choroba serca      0.00669         0.00413  0.00256   1.619855   1.624029"
      ]
     },
     "execution_count": 5,
     "metadata": {},
     "output_type": "execute_result"
    }
   ],
   "source": [
    "pluca_palacze = 0.00140\n",
    "pluca_niepalacze = 0.00010\n",
    "serce_palacze = 0.00669\n",
    "serce_niepalacze = 0.00413\n",
    "\n",
    "def compute_metrics(p1, p2):\n",
    "    rp = p1 - p2\n",
    "    rr = p1 / p2\n",
    "    or_ = (p1 / (1 - p1)) / (p2 / (1 - p2))\n",
    "    return rp, rr, or_\n",
    "\n",
    "results = []\n",
    "for outcome, p1, p2 in [\n",
    "    (\"Rak płuc\", pluca_palacze, pluca_niepalacze),\n",
    "    (\"Choroba serca\", serce_palacze, serce_niepalacze),\n",
    "]:\n",
    "    rp, rr, or_ = compute_metrics(p1, p2)\n",
    "    results.append({\n",
    "        \"Wynik\": outcome,\n",
    "        \"p (palacze)\": p1,\n",
    "        \"p (niepalacze)\": p2,\n",
    "        \"RP\": rp,\n",
    "        \"RR\": rr,\n",
    "        \"OR\": or_,\n",
    "    })\n",
    "\n",
    "df = pd.DataFrame(results)\n",
    "df"
   ]
  },
  {
   "cell_type": "markdown",
   "metadata": {},
   "source": [
    "Choć różnica proporcji jest większa dla choroby serca, to miary RR i OR pokazują dużo silniejszy związek palenia ze śmiercią na raka płuc. Zatem na miarę siły efektu – palenie jest znacznie mocniej skojarzone ze zwiększonym ryzykiem zgonu z powodu raka płuc niż z powodu choroby wieńcowej."
   ]
  },
  {
   "cell_type": "markdown",
   "metadata": {},
   "source": [
    "___\n",
    "## Zadanie 12\n",
    "**Analiza związku między używaniem pasów bezpieczeństwa a śmiertelnością w wypadkach samochodowych**\n",
    "\n",
    "W zadaniu przeanalizowano dane dotyczące wypadków samochodowych na Florydzie w 2008 roku, uwzględniając śmiertelność oraz użycie pasów bezpieczeństwa. Wykonano następujące kroki:\n",
    "\n",
    "a) Oszacowano warunkowe prawdopodobieństwa śmierci w wypadku, osobno dla osób używających i nieużywających pasów bezpieczeństwa.\n",
    "\n",
    "b) Oszacowano warunkowe prawdopodobieństwa użycia pasów bezpieczeństwa, osobno dla osób, które zginęły, oraz dla osób, które przeżyły wypadek.\n",
    "\n",
    "c) Obliczono trzy miary siły związku między użyciem pasów a śmiertelnością\n",
    "\n",
    "Obliczenia pozwalają na ocenę zależności między stosowaniem pasów bezpieczeństwa a ryzykiem śmierci w wypadkach drogowych."
   ]
  },
  {
   "cell_type": "markdown",
   "metadata": {},
   "source": [
    "### a) i b)"
   ]
  },
  {
   "cell_type": "code",
   "execution_count": null,
   "metadata": {},
   "outputs": [
    {
     "data": {
      "text/html": [
       "<div>\n",
       "<style scoped>\n",
       "    .dataframe tbody tr th:only-of-type {\n",
       "        vertical-align: middle;\n",
       "    }\n",
       "\n",
       "    .dataframe tbody tr th {\n",
       "        vertical-align: top;\n",
       "    }\n",
       "\n",
       "    .dataframe thead th {\n",
       "        text-align: right;\n",
       "    }\n",
       "</style>\n",
       "<table border=\"1\" class=\"dataframe\">\n",
       "  <thead>\n",
       "    <tr style=\"text-align: right;\">\n",
       "      <th></th>\n",
       "      <th>Warunek</th>\n",
       "      <th>Prawdopodobieństwo</th>\n",
       "    </tr>\n",
       "  </thead>\n",
       "  <tbody>\n",
       "    <tr>\n",
       "      <th>0</th>\n",
       "      <td>Śmierć | Bez pasów</td>\n",
       "      <td>0.019133</td>\n",
       "    </tr>\n",
       "    <tr>\n",
       "      <th>1</th>\n",
       "      <td>Śmierć | Z pasami</td>\n",
       "      <td>0.001591</td>\n",
       "    </tr>\n",
       "    <tr>\n",
       "      <th>2</th>\n",
       "      <td>Pasy | Zgon</td>\n",
       "      <td>0.393177</td>\n",
       "    </tr>\n",
       "    <tr>\n",
       "      <th>3</th>\n",
       "      <td>Pasy | Przeżycie</td>\n",
       "      <td>0.888051</td>\n",
       "    </tr>\n",
       "  </tbody>\n",
       "</table>\n",
       "</div>"
      ],
      "text/plain": [
       "              Warunek  Prawdopodobieństwo\n",
       "0  Śmierć | Bez pasów            0.019133\n",
       "1   Śmierć | Z pasami            0.001591\n",
       "2         Pasy | Zgon            0.393177\n",
       "3    Pasy | Przeżycie            0.888051"
      ]
     },
     "execution_count": 7,
     "metadata": {},
     "output_type": "execute_result"
    }
   ],
   "source": [
    "zmarli_bez = 1085\n",
    "zywi_bez = 55623\n",
    "zmarli_pas = 703\n",
    "zywi_pas = 441239\n",
    "\n",
    "pi_1_1 = zmarli_bez / (zmarli_bez + zywi_bez)\n",
    "pi_1_2 = zmarli_pas / (zmarli_pas + zywi_pas)\n",
    "\n",
    "pi_2_1 = zmarli_pas / (zmarli_pas + zmarli_bez)\n",
    "pi_2_2 = zywi_pas / (zywi_pas + zywi_bez)\n",
    "\n",
    "df = pd.DataFrame([\n",
    "    {\n",
    "        \"Warunek\": \"Śmierć | Bez pasów\",\n",
    "        \"Prawdopodobieństwo\": pi_1_1\n",
    "    },\n",
    "    {\n",
    "        \"Warunek\": \"Śmierć | Z pasami\",\n",
    "        \"Prawdopodobieństwo\": pi_1_2\n",
    "    },\n",
    "    {\n",
    "        \"Warunek\": \"Pasy | Zgon\",\n",
    "        \"Prawdopodobieństwo\": pi_2_1\n",
    "    },\n",
    "    {\n",
    "        \"Warunek\": \"Pasy | Przeżycie\",\n",
    "        \"Prawdopodobieństwo\": pi_2_2\n",
    "    }\n",
    "])\n",
    "\n",
    "df"
   ]
  },
  {
   "cell_type": "markdown",
   "metadata": {},
   "source": [
    "Użycie pasów zmniejsza prawdopodobieństwo śmierci z $\\approx 1{,}91\\%$\n",
    " do $\\approx 0{,}16\\%$, a osoby, które zginęły, nosiły pasy w $\\approx 39\\%$ przypadków, podczas gdy spośród tych, którzy przeżyli wypadek, aż $\\approx 89\\%$ było w pasach."
   ]
  },
  {
   "cell_type": "markdown",
   "metadata": {},
   "source": [
    "### c)"
   ]
  },
  {
   "cell_type": "markdown",
   "metadata": {},
   "source": [
    "Najbardziej naturalną zmienną objaśnianą w tym badaniu jest zgon w wypadku, a jako zmienną objaśniającą – użycie pasa. "
   ]
  },
  {
   "cell_type": "code",
   "execution_count": null,
   "metadata": {},
   "outputs": [
    {
     "data": {
      "text/html": [
       "<div>\n",
       "<style scoped>\n",
       "    .dataframe tbody tr th:only-of-type {\n",
       "        vertical-align: middle;\n",
       "    }\n",
       "\n",
       "    .dataframe tbody tr th {\n",
       "        vertical-align: top;\n",
       "    }\n",
       "\n",
       "    .dataframe thead th {\n",
       "        text-align: right;\n",
       "    }\n",
       "</style>\n",
       "<table border=\"1\" class=\"dataframe\">\n",
       "  <thead>\n",
       "    <tr style=\"text-align: right;\">\n",
       "      <th></th>\n",
       "      <th>Metryka</th>\n",
       "      <th>Wartość</th>\n",
       "    </tr>\n",
       "  </thead>\n",
       "  <tbody>\n",
       "    <tr>\n",
       "      <th>0</th>\n",
       "      <td>RP</td>\n",
       "      <td>0.017542</td>\n",
       "    </tr>\n",
       "    <tr>\n",
       "      <th>1</th>\n",
       "      <td>RR</td>\n",
       "      <td>12.028054</td>\n",
       "    </tr>\n",
       "    <tr>\n",
       "      <th>2</th>\n",
       "      <td>OR</td>\n",
       "      <td>12.24317</td>\n",
       "    </tr>\n",
       "  </tbody>\n",
       "</table>\n",
       "</div>"
      ],
      "text/plain": [
       "  Metryka    Wartość\n",
       "0      RP   0.017542\n",
       "1      RR  12.028054\n",
       "2      OR   12.24317"
      ]
     },
     "execution_count": 12,
     "metadata": {},
     "output_type": "execute_result"
    }
   ],
   "source": [
    "no = zmarli_bez / (zmarli_bez + zywi_bez)\n",
    "yes = zmarli_pas / (zmarli_pas + zywi_pas)\n",
    "\n",
    "def compute_metrics(p1, p2):\n",
    "    rp = p1 - p2\n",
    "    rr = p1 / p2\n",
    "    or_ = (p1 / (1 - p1)) / (p2 / (1 - p2))\n",
    "    return rp, rr, or_\n",
    "\n",
    "rp, rr, or_ = compute_metrics(no, yes)\n",
    "\n",
    "df = pd.DataFrame([{\n",
    "    \"Metryka\": [\"RP\", \"RR\", \"OR\"],\n",
    "    \"Wartość\": [rp, rr, or_]\n",
    "}]).explode([\"Metryka\",\"Wartość\"]).reset_index(drop=True)\n",
    "\n",
    "df"
   ]
  },
  {
   "cell_type": "markdown",
   "metadata": {},
   "source": [
    "Kierowca czy pasażer, który nie zapiął pasa, ma o około 1,75 punktu procentowego wyższe ryzyko śmierci, a jego względne ryzyko (RR) i iloraz szans (OR) zgonu są ~12-krotnie większe. Wartości RR i OR są bardzo zbliżone, ponieważ zgon w wyniku wypadku to zdarzenie stosunkowo rzadkie (p ≪ 1), a dla rzadkich zdarzeń szanse zbliżają się do prawdopodobieństw."
   ]
  }
 ],
 "metadata": {
  "kernelspec": {
   "display_name": "Python 3",
   "language": "python",
   "name": "python3"
  },
  "language_info": {
   "codemirror_mode": {
    "name": "ipython",
    "version": 3
   },
   "file_extension": ".py",
   "mimetype": "text/x-python",
   "name": "python",
   "nbconvert_exporter": "python",
   "pygments_lexer": "ipython3",
   "version": "3.12.7"
  },
  "orig_nbformat": 4
 },
 "nbformat": 4,
 "nbformat_minor": 2
}
